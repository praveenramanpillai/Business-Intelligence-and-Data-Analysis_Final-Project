{
 "cells": [
  {
   "cell_type": "code",
   "execution_count": 13,
   "id": "e6dfe58d-dd24-4fe6-a9f7-958e019b7035",
   "metadata": {},
   "outputs": [],
   "source": [
    "import pandas as pd\n",
    "import matplotlib.pyplot as plt\n",
    "\n",
    "# Set File Path\n",
    "file_path = r'C:\\\\Users\\\\prave\\\\OneDrive\\\\Desktop\\\\College\\\\Course 8 - Capstone_Business Intelligence and Data Analytics\\\\Data_set\\\\Medicare_IP_Hospitals_by_Geography_and_Service_2023.csv'  \n",
    "\n",
    "df = pd.read_csv(file_path, encoding='latin1')\n",
    "\n",
    "df.columns = df.columns.str.strip()\n",
    "\n",
    "df.head()\n",
    "\n",
    "columns = [\n",
    "    'Rndrng_Prvdr_Geo_Lvl',\n",
    "    'Rndrng_Prvdr_Geo_Cd',\n",
    "    'Rndrng_Prvdr_Geo_Desc',\n",
    "    'DRG_Cd',\n",
    "    'DRG_Desc',\n",
    "    'Tot_Dschrgs',\n",
    "    'Avg_Submtd_Cvrd_Chrg',\n",
    "    'Avg_Tot_Pymt_Amt',\n",
    "    'Avg_Mdcr_Pymt_Amt'\n",
    "]\n",
    "\n",
    "df = pd.read_csv(file_path, encoding='latin1', names=columns, header=None)\n",
    "\n",
    "\n",
    "numeric_cols = ['Tot_Dschrgs', 'Avg_Submtd_Cvrd_Chrg', 'Avg_Tot_Pymt_Amt', 'Avg_Mdcr_Pymt_Amt']\n",
    "df[numeric_cols] = df[numeric_cols].apply(pd.to_numeric, errors='coerce')\n"
   ]
  },
  {
   "cell_type": "code",
   "execution_count": null,
   "id": "f751a0ba-b270-4c2d-8e21-20567b07cd60",
   "metadata": {},
   "outputs": [],
   "source": [
    "# Research Question- 4: \n",
    "# How do average Medicare payments compare to average submitted charges across different DRGs?\n",
    "\n",
    "# Convert to numeric\n",
    "df['Avg_Submtd_Cvrd_Chrg'] = pd.to_numeric(df['Avg_Submtd_Cvrd_Chrg'], errors='coerce')\n",
    "df['Avg_Mdcr_Pymt_Amt'] = pd.to_numeric(df['Avg_Mdcr_Pymt_Amt'], errors='coerce')\n",
    "df['Tot_Dschrgs'] = pd.to_numeric(df['Tot_Dschrgs'], errors='coerce')\n",
    "\n",
    "\n",
    "# Calculate total amounts per DRG category\n",
    "df['Total_Submitted_Amount'] = df['Tot_Dschrgs'] * df['Avg_Submtd_Cvrd_Chrg']\n",
    "df['Total_Medicare_Paid_Amount'] = df['Tot_Dschrgs'] * df['Avg_Mdcr_Pymt_Amt']\n",
    "\n",
    "drg_summary = df.groupby('DRG_Desc').agg({\n",
    "    'Total_Submitted_Amount': 'sum',\n",
    "    'Total_Medicare_Paid_Amount': 'sum'\n",
    "}).sort_values(by='Total_Submitted_Amount', ascending=False)\n",
    "\n",
    "plt.figure(figsize=(20, 12))\n",
    "\n",
    "# Plot stacked bars\n",
    "p1 = plt.bar(drg_summary.index, drg_summary['Total_Submitted_Amount'], label='Total Submitted Amount')\n",
    "p2 = plt.bar(drg_summary.index, drg_summary['Total_Medicare_Paid_Amount'], \n",
    "             bottom=drg_summary['Total_Submitted_Amount'], label='Total Medicare Paid Amount')\n",
    "\n",
    "plt.xlabel('DRG Category', fontsize=12)\n",
    "plt.ylabel('Amount ($)', fontsize=12)\n",
    "plt.title('Total Submitted vs Medicare Paid Amount by DRG Category', fontsize=14)\n",
    "plt.xticks(rotation=45, ha='right')\n",
    "plt.legend()\n",
    "\n",
    "plt.tight_layout()\n",
    "plt.show()"
   ]
  },
  {
   "cell_type": "code",
   "execution_count": null,
   "id": "2e739c6b-a612-4cb1-9d09-6180ad22ed87",
   "metadata": {},
   "outputs": [],
   "source": []
  },
  {
   "cell_type": "code",
   "execution_count": null,
   "id": "40971665-1a55-427d-9793-1486c6c8c616",
   "metadata": {},
   "outputs": [],
   "source": []
  }
 ],
 "metadata": {
  "kernelspec": {
   "display_name": "Python [conda env:Anaconda3]",
   "language": "python",
   "name": "conda-env-Anaconda3-py"
  },
  "language_info": {
   "codemirror_mode": {
    "name": "ipython",
    "version": 3
   },
   "file_extension": ".py",
   "mimetype": "text/x-python",
   "name": "python",
   "nbconvert_exporter": "python",
   "pygments_lexer": "ipython3",
   "version": "3.12.7"
  }
 },
 "nbformat": 4,
 "nbformat_minor": 5
}
